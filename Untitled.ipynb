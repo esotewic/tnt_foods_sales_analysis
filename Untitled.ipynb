{
 "cells": [
  {
   "cell_type": "code",
   "execution_count": 1,
   "metadata": {},
   "outputs": [],
   "source": [
    "import pandas as pd\n",
    "import numpy as np"
   ]
  },
  {
   "cell_type": "markdown",
   "metadata": {},
   "source": [
    "## Read in excel files"
   ]
  },
  {
   "cell_type": "code",
   "execution_count": 2,
   "metadata": {},
   "outputs": [],
   "source": [
    "df_2019 = pd.read_excel('data/2019 SALES.xlsx')"
   ]
  },
  {
   "cell_type": "code",
   "execution_count": 3,
   "metadata": {},
   "outputs": [],
   "source": [
    "df_2018 = pd.read_excel('data/2018 SALES.xlsx')"
   ]
  },
  {
   "cell_type": "markdown",
   "metadata": {},
   "source": [
    "## Check Tables"
   ]
  },
  {
   "cell_type": "code",
   "execution_count": 4,
   "metadata": {
    "scrolled": true
   },
   "outputs": [
    {
     "data": {
      "text/html": [
       "<div>\n",
       "<style scoped>\n",
       "    .dataframe tbody tr th:only-of-type {\n",
       "        vertical-align: middle;\n",
       "    }\n",
       "\n",
       "    .dataframe tbody tr th {\n",
       "        vertical-align: top;\n",
       "    }\n",
       "\n",
       "    .dataframe thead th {\n",
       "        text-align: right;\n",
       "    }\n",
       "</style>\n",
       "<table border=\"1\" class=\"dataframe\">\n",
       "  <thead>\n",
       "    <tr style=\"text-align: right;\">\n",
       "      <th></th>\n",
       "      <th>Item ID</th>\n",
       "      <th>Description</th>\n",
       "      <th>Customer ID</th>\n",
       "      <th>Customer Name</th>\n",
       "      <th>Type</th>\n",
       "      <th>Date</th>\n",
       "      <th>Quantity</th>\n",
       "      <th>Unit Price</th>\n",
       "      <th>Invoice No.</th>\n",
       "    </tr>\n",
       "  </thead>\n",
       "  <tbody>\n",
       "    <tr>\n",
       "      <th>0</th>\n",
       "      <td>SHRTWT</td>\n",
       "      <td>SHORT WEIGHT</td>\n",
       "      <td>GAF001</td>\n",
       "      <td>TL Foods, Inc.</td>\n",
       "      <td>Invoice</td>\n",
       "      <td>2018-01-02</td>\n",
       "      <td>-2000.0</td>\n",
       "      <td>0.45</td>\n",
       "      <td>10576</td>\n",
       "    </tr>\n",
       "    <tr>\n",
       "      <th>1</th>\n",
       "      <td>C10017</td>\n",
       "      <td>Chicken Jumbo Leg #40</td>\n",
       "      <td>GAF001</td>\n",
       "      <td>TL Foods, Inc.</td>\n",
       "      <td>Invoice</td>\n",
       "      <td>2018-01-02</td>\n",
       "      <td>40000.0</td>\n",
       "      <td>0.45</td>\n",
       "      <td>10576</td>\n",
       "    </tr>\n",
       "    <tr>\n",
       "      <th>2</th>\n",
       "      <td>C10021</td>\n",
       "      <td>Chicken Leg Meat Fresh #40</td>\n",
       "      <td>JOY001</td>\n",
       "      <td>Joy Fresh Marketing World, Inc.</td>\n",
       "      <td>Invoice</td>\n",
       "      <td>2018-01-02</td>\n",
       "      <td>1600.0</td>\n",
       "      <td>1.01</td>\n",
       "      <td>231265</td>\n",
       "    </tr>\n",
       "    <tr>\n",
       "      <th>3</th>\n",
       "      <td>C10007</td>\n",
       "      <td>Chicken Breast Meat Fresh #40</td>\n",
       "      <td>JOY001</td>\n",
       "      <td>Joy Fresh Marketing World, Inc.</td>\n",
       "      <td>Invoice</td>\n",
       "      <td>2018-01-02</td>\n",
       "      <td>80.0</td>\n",
       "      <td>1.09</td>\n",
       "      <td>231265</td>\n",
       "    </tr>\n",
       "    <tr>\n",
       "      <th>4</th>\n",
       "      <td>C10021</td>\n",
       "      <td>Chicken Leg Meat Fresh #40</td>\n",
       "      <td>CIN001</td>\n",
       "      <td>Cindy</td>\n",
       "      <td>Invoice</td>\n",
       "      <td>2018-01-02</td>\n",
       "      <td>1200.0</td>\n",
       "      <td>1.00</td>\n",
       "      <td>231266</td>\n",
       "    </tr>\n",
       "  </tbody>\n",
       "</table>\n",
       "</div>"
      ],
      "text/plain": [
       "  Item ID                    Description Customer ID  \\\n",
       "0  SHRTWT                   SHORT WEIGHT      GAF001   \n",
       "1  C10017          Chicken Jumbo Leg #40      GAF001   \n",
       "2  C10021     Chicken Leg Meat Fresh #40      JOY001   \n",
       "3  C10007  Chicken Breast Meat Fresh #40      JOY001   \n",
       "4  C10021     Chicken Leg Meat Fresh #40      CIN001   \n",
       "\n",
       "                     Customer Name     Type       Date  Quantity  Unit Price  \\\n",
       "0                   TL Foods, Inc.  Invoice 2018-01-02   -2000.0        0.45   \n",
       "1                   TL Foods, Inc.  Invoice 2018-01-02   40000.0        0.45   \n",
       "2  Joy Fresh Marketing World, Inc.  Invoice 2018-01-02    1600.0        1.01   \n",
       "3  Joy Fresh Marketing World, Inc.  Invoice 2018-01-02      80.0        1.09   \n",
       "4                            Cindy  Invoice 2018-01-02    1200.0        1.00   \n",
       "\n",
       "  Invoice No.  \n",
       "0       10576  \n",
       "1       10576  \n",
       "2      231265  \n",
       "3      231265  \n",
       "4      231266  "
      ]
     },
     "execution_count": 4,
     "metadata": {},
     "output_type": "execute_result"
    }
   ],
   "source": [
    "df_2018.head()"
   ]
  },
  {
   "cell_type": "code",
   "execution_count": 5,
   "metadata": {
    "scrolled": true
   },
   "outputs": [
    {
     "data": {
      "text/html": [
       "<div>\n",
       "<style scoped>\n",
       "    .dataframe tbody tr th:only-of-type {\n",
       "        vertical-align: middle;\n",
       "    }\n",
       "\n",
       "    .dataframe tbody tr th {\n",
       "        vertical-align: top;\n",
       "    }\n",
       "\n",
       "    .dataframe thead th {\n",
       "        text-align: right;\n",
       "    }\n",
       "</style>\n",
       "<table border=\"1\" class=\"dataframe\">\n",
       "  <thead>\n",
       "    <tr style=\"text-align: right;\">\n",
       "      <th></th>\n",
       "      <th>Item ID</th>\n",
       "      <th>Description</th>\n",
       "      <th>Customer ID</th>\n",
       "      <th>Customer Name</th>\n",
       "      <th>Type</th>\n",
       "      <th>Date</th>\n",
       "      <th>Quantity</th>\n",
       "      <th>Unit Price</th>\n",
       "      <th>Invoice No.</th>\n",
       "    </tr>\n",
       "  </thead>\n",
       "  <tbody>\n",
       "    <tr>\n",
       "      <th>0</th>\n",
       "      <td>C10021</td>\n",
       "      <td>Chicken Leg Meat Fresh #40</td>\n",
       "      <td>JOY001</td>\n",
       "      <td>Joy Fresh Marketing World, Inc.</td>\n",
       "      <td>Invoice</td>\n",
       "      <td>2019-01-02</td>\n",
       "      <td>960.0</td>\n",
       "      <td>1.09</td>\n",
       "      <td>24913</td>\n",
       "    </tr>\n",
       "    <tr>\n",
       "      <th>1</th>\n",
       "      <td>C10021</td>\n",
       "      <td>Chicken Leg Meat Fresh #40</td>\n",
       "      <td>YOS003</td>\n",
       "      <td>Yosamite Valley Beef Distributors</td>\n",
       "      <td>Invoice</td>\n",
       "      <td>2019-01-02</td>\n",
       "      <td>800.0</td>\n",
       "      <td>1.09</td>\n",
       "      <td>24914</td>\n",
       "    </tr>\n",
       "    <tr>\n",
       "      <th>2</th>\n",
       "      <td>C10036</td>\n",
       "      <td>Chicken Thigh Meat Fresh #40</td>\n",
       "      <td>YOS003</td>\n",
       "      <td>Yosamite Valley Beef Distributors</td>\n",
       "      <td>Invoice</td>\n",
       "      <td>2019-01-02</td>\n",
       "      <td>120.0</td>\n",
       "      <td>1.19</td>\n",
       "      <td>24914</td>\n",
       "    </tr>\n",
       "    <tr>\n",
       "      <th>3</th>\n",
       "      <td>C10021</td>\n",
       "      <td>Chicken Leg Meat Fresh #40</td>\n",
       "      <td>EXP001</td>\n",
       "      <td>Express Provisions Maet &amp; Produce</td>\n",
       "      <td>Invoice</td>\n",
       "      <td>2019-01-02</td>\n",
       "      <td>440.0</td>\n",
       "      <td>1.09</td>\n",
       "      <td>24915</td>\n",
       "    </tr>\n",
       "    <tr>\n",
       "      <th>4</th>\n",
       "      <td>C10036</td>\n",
       "      <td>Chicken Thigh Meat Fresh #40</td>\n",
       "      <td>PVO001</td>\n",
       "      <td>Pivo Management, Inc.</td>\n",
       "      <td>Invoice</td>\n",
       "      <td>2019-01-02</td>\n",
       "      <td>120.0</td>\n",
       "      <td>1.19</td>\n",
       "      <td>24916</td>\n",
       "    </tr>\n",
       "  </tbody>\n",
       "</table>\n",
       "</div>"
      ],
      "text/plain": [
       "  Item ID                   Description Customer ID  \\\n",
       "0  C10021    Chicken Leg Meat Fresh #40      JOY001   \n",
       "1  C10021    Chicken Leg Meat Fresh #40      YOS003   \n",
       "2  C10036  Chicken Thigh Meat Fresh #40      YOS003   \n",
       "3  C10021    Chicken Leg Meat Fresh #40      EXP001   \n",
       "4  C10036  Chicken Thigh Meat Fresh #40      PVO001   \n",
       "\n",
       "                       Customer Name     Type       Date  Quantity  \\\n",
       "0    Joy Fresh Marketing World, Inc.  Invoice 2019-01-02     960.0   \n",
       "1  Yosamite Valley Beef Distributors  Invoice 2019-01-02     800.0   \n",
       "2  Yosamite Valley Beef Distributors  Invoice 2019-01-02     120.0   \n",
       "3  Express Provisions Maet & Produce  Invoice 2019-01-02     440.0   \n",
       "4              Pivo Management, Inc.  Invoice 2019-01-02     120.0   \n",
       "\n",
       "   Unit Price Invoice No.  \n",
       "0        1.09       24913  \n",
       "1        1.09       24914  \n",
       "2        1.19       24914  \n",
       "3        1.09       24915  \n",
       "4        1.19       24916  "
      ]
     },
     "execution_count": 5,
     "metadata": {},
     "output_type": "execute_result"
    }
   ],
   "source": [
    "df_2019.head()"
   ]
  },
  {
   "cell_type": "markdown",
   "metadata": {},
   "source": [
    "## Check shape"
   ]
  },
  {
   "cell_type": "code",
   "execution_count": 6,
   "metadata": {},
   "outputs": [
    {
     "data": {
      "text/plain": [
       "(33771, 9)"
      ]
     },
     "execution_count": 6,
     "metadata": {},
     "output_type": "execute_result"
    }
   ],
   "source": [
    "df_2018.shape"
   ]
  },
  {
   "cell_type": "code",
   "execution_count": null,
   "metadata": {},
   "outputs": [],
   "source": []
  },
  {
   "cell_type": "code",
   "execution_count": 7,
   "metadata": {},
   "outputs": [
    {
     "data": {
      "text/plain": [
       "(21909, 9)"
      ]
     },
     "execution_count": 7,
     "metadata": {},
     "output_type": "execute_result"
    }
   ],
   "source": [
    "df_2019.shape"
   ]
  },
  {
   "cell_type": "markdown",
   "metadata": {},
   "source": [
    "## Merge Tables"
   ]
  },
  {
   "cell_type": "code",
   "execution_count": 9,
   "metadata": {},
   "outputs": [],
   "source": [
    "df = pd.concat([df_2018,df_2019])"
   ]
  },
  {
   "cell_type": "code",
   "execution_count": 10,
   "metadata": {},
   "outputs": [
    {
     "data": {
      "text/plain": [
       "(55680, 9)"
      ]
     },
     "execution_count": 10,
     "metadata": {},
     "output_type": "execute_result"
    }
   ],
   "source": [
    "df.shape"
   ]
  },
  {
   "cell_type": "code",
   "execution_count": 11,
   "metadata": {},
   "outputs": [
    {
     "data": {
      "text/html": [
       "<div>\n",
       "<style scoped>\n",
       "    .dataframe tbody tr th:only-of-type {\n",
       "        vertical-align: middle;\n",
       "    }\n",
       "\n",
       "    .dataframe tbody tr th {\n",
       "        vertical-align: top;\n",
       "    }\n",
       "\n",
       "    .dataframe thead th {\n",
       "        text-align: right;\n",
       "    }\n",
       "</style>\n",
       "<table border=\"1\" class=\"dataframe\">\n",
       "  <thead>\n",
       "    <tr style=\"text-align: right;\">\n",
       "      <th></th>\n",
       "      <th>Item ID</th>\n",
       "      <th>Description</th>\n",
       "      <th>Customer ID</th>\n",
       "      <th>Customer Name</th>\n",
       "      <th>Type</th>\n",
       "      <th>Date</th>\n",
       "      <th>Quantity</th>\n",
       "      <th>Unit Price</th>\n",
       "      <th>Invoice No.</th>\n",
       "    </tr>\n",
       "  </thead>\n",
       "  <tbody>\n",
       "    <tr>\n",
       "      <th>0</th>\n",
       "      <td>SHRTWT</td>\n",
       "      <td>SHORT WEIGHT</td>\n",
       "      <td>GAF001</td>\n",
       "      <td>TL Foods, Inc.</td>\n",
       "      <td>Invoice</td>\n",
       "      <td>2018-01-02</td>\n",
       "      <td>-2000.0</td>\n",
       "      <td>0.45</td>\n",
       "      <td>10576</td>\n",
       "    </tr>\n",
       "    <tr>\n",
       "      <th>1</th>\n",
       "      <td>C10017</td>\n",
       "      <td>Chicken Jumbo Leg #40</td>\n",
       "      <td>GAF001</td>\n",
       "      <td>TL Foods, Inc.</td>\n",
       "      <td>Invoice</td>\n",
       "      <td>2018-01-02</td>\n",
       "      <td>40000.0</td>\n",
       "      <td>0.45</td>\n",
       "      <td>10576</td>\n",
       "    </tr>\n",
       "    <tr>\n",
       "      <th>2</th>\n",
       "      <td>C10021</td>\n",
       "      <td>Chicken Leg Meat Fresh #40</td>\n",
       "      <td>JOY001</td>\n",
       "      <td>Joy Fresh Marketing World, Inc.</td>\n",
       "      <td>Invoice</td>\n",
       "      <td>2018-01-02</td>\n",
       "      <td>1600.0</td>\n",
       "      <td>1.01</td>\n",
       "      <td>231265</td>\n",
       "    </tr>\n",
       "    <tr>\n",
       "      <th>3</th>\n",
       "      <td>C10007</td>\n",
       "      <td>Chicken Breast Meat Fresh #40</td>\n",
       "      <td>JOY001</td>\n",
       "      <td>Joy Fresh Marketing World, Inc.</td>\n",
       "      <td>Invoice</td>\n",
       "      <td>2018-01-02</td>\n",
       "      <td>80.0</td>\n",
       "      <td>1.09</td>\n",
       "      <td>231265</td>\n",
       "    </tr>\n",
       "    <tr>\n",
       "      <th>4</th>\n",
       "      <td>C10021</td>\n",
       "      <td>Chicken Leg Meat Fresh #40</td>\n",
       "      <td>CIN001</td>\n",
       "      <td>Cindy</td>\n",
       "      <td>Invoice</td>\n",
       "      <td>2018-01-02</td>\n",
       "      <td>1200.0</td>\n",
       "      <td>1.00</td>\n",
       "      <td>231266</td>\n",
       "    </tr>\n",
       "  </tbody>\n",
       "</table>\n",
       "</div>"
      ],
      "text/plain": [
       "  Item ID                    Description Customer ID  \\\n",
       "0  SHRTWT                   SHORT WEIGHT      GAF001   \n",
       "1  C10017          Chicken Jumbo Leg #40      GAF001   \n",
       "2  C10021     Chicken Leg Meat Fresh #40      JOY001   \n",
       "3  C10007  Chicken Breast Meat Fresh #40      JOY001   \n",
       "4  C10021     Chicken Leg Meat Fresh #40      CIN001   \n",
       "\n",
       "                     Customer Name     Type       Date  Quantity  Unit Price  \\\n",
       "0                   TL Foods, Inc.  Invoice 2018-01-02   -2000.0        0.45   \n",
       "1                   TL Foods, Inc.  Invoice 2018-01-02   40000.0        0.45   \n",
       "2  Joy Fresh Marketing World, Inc.  Invoice 2018-01-02    1600.0        1.01   \n",
       "3  Joy Fresh Marketing World, Inc.  Invoice 2018-01-02      80.0        1.09   \n",
       "4                            Cindy  Invoice 2018-01-02    1200.0        1.00   \n",
       "\n",
       "  Invoice No.  \n",
       "0       10576  \n",
       "1       10576  \n",
       "2      231265  \n",
       "3      231265  \n",
       "4      231266  "
      ]
     },
     "execution_count": 11,
     "metadata": {},
     "output_type": "execute_result"
    }
   ],
   "source": [
    "df.head()"
   ]
  },
  {
   "cell_type": "markdown",
   "metadata": {},
   "source": [
    "## New Column for Invoice Total"
   ]
  },
  {
   "cell_type": "code",
   "execution_count": 12,
   "metadata": {},
   "outputs": [],
   "source": [
    "df['Invoice Total'] = df['Quantity'] * df['Unit Price']"
   ]
  },
  {
   "cell_type": "code",
   "execution_count": 13,
   "metadata": {},
   "outputs": [
    {
     "data": {
      "text/plain": [
       "38392110.0883916"
      ]
     },
     "execution_count": 13,
     "metadata": {},
     "output_type": "execute_result"
    }
   ],
   "source": [
    "df['Invoice Total'].sum()"
   ]
  },
  {
   "cell_type": "markdown",
   "metadata": {},
   "source": [
    "## Which is the most popular item ordered?"
   ]
  },
  {
   "cell_type": "code",
   "execution_count": 14,
   "metadata": {
    "scrolled": true
   },
   "outputs": [
    {
     "data": {
      "text/plain": [
       "Chicken Leg Meat Fresh #40        12002\n",
       "Chicken Breast Meat Fresh #40      4584\n",
       "Beef Bone #50                      3116\n",
       "Chicken  Breast Bone #40           2802\n",
       "Chicken Jumbo Leg #40              2743\n",
       "Chicken Thigh Meat Fresh #40       2743\n",
       "Pork Chop (End Cut) #30            1645\n",
       "Chicken Leg Meat-Skin On #40       1610\n",
       "Beef Drop Flank PALO               1602\n",
       "Beef Eye Round                     1274\n",
       "Pork  Bone                         1100\n",
       "Beef Leg Tendon #11                1056\n",
       "Beef Tenderloin                     938\n",
       "Beef Brisket IBP                    830\n",
       "Pork Neck Bones                     758\n",
       "Pork Butts - Boneless (IBP)         717\n",
       "Pork Bellies                        613\n",
       "Beef Tripe #22                      581\n",
       "Pork Spare Ribs                     509\n",
       "Chicken Mid Joint Wing #44.09       501\n",
       "Beef New York Strip                 486\n",
       "Pork Fat                            475\n",
       "Orange Chicken (Colonel)            452\n",
       "Chicken Leg Bone #40                440\n",
       "Beef Short Rib (Sliced) #10 -A      425\n",
       "Jumbo Whole Wings                   412\n",
       "Pork Hock                           387\n",
       "Pork Collar Schneider               386\n",
       "Beef Brisket (Point) CV.            385\n",
       "8-10 Block Basa Fillet              357\n",
       "                                  ...  \n",
       "Chicken Eggroll 1.5 Oz.               4\n",
       "Suadero (P)                           3\n",
       "Chicken Liver                         3\n",
       "Chicken Breast Meat Sliced #40        3\n",
       "Beef Leg Tendon #11.02 IBP            3\n",
       "Pork Picnic                           3\n",
       "Chicken Breast Meat Diced #40         3\n",
       "Lamb Shoulder Bnls Def.               3\n",
       "6-8 Block Basa Fillet                 3\n",
       "Chicken Roaster Wing                  2\n",
       "Chicken Drummettes                    2\n",
       "Pork Back Rib (Baby Back)             2\n",
       "Beef Top Sirloin                      2\n",
       "Duck                                  2\n",
       "Chicken Whole Wing #40                2\n",
       "Beef Banana Shank (R)                 2\n",
       "Pork Chop (End Cut) #10               2\n",
       "Orange Pork Fritters #10              1\n",
       "Duck Legs                             1\n",
       "Gatorscal Tape                        1\n",
       "Seafood Mix                           1\n",
       "Salt                                  1\n",
       "Pork Eggroll 1.5 Oz.                  1\n",
       "Orange Chicken 40 lbs/cs.             1\n",
       "Pork Tails                            1\n",
       "Beef Knuckle Bone                     1\n",
       "Pork Butts - Bone In (F)              1\n",
       "Pork Leg Bones                        1\n",
       "CPRIDE THG                            1\n",
       "Pork Butt Canada                      1\n",
       "Name: Description, Length: 173, dtype: int64"
      ]
     },
     "execution_count": 14,
     "metadata": {},
     "output_type": "execute_result"
    }
   ],
   "source": [
    "df.Description.value_counts()"
   ]
  },
  {
   "cell_type": "markdown",
   "metadata": {},
   "source": [
    "## Which Customer has highest order count?"
   ]
  },
  {
   "cell_type": "code",
   "execution_count": 15,
   "metadata": {
    "scrolled": true
   },
   "outputs": [
    {
     "data": {
      "text/plain": [
       "Capital Seafoods Group                     5417\n",
       "Pho Pasteur                                3622\n",
       "S & I Trading Co.                          2548\n",
       "Pho Legend, Inc.                           2206\n",
       "WILL CALL                                  1922\n",
       "Bolsa Meat                                 1783\n",
       "Quan Nem Ninh Hoa                          1576\n",
       "JPT Trading Co., Inc.                      1455\n",
       "T&A                                        1439\n",
       "LG Food                                    1430\n",
       "AVO Trading, Inc.                          1297\n",
       "C & H Company                              1291\n",
       "Taiwah Trading Corp.                       1202\n",
       "Yosamite Valley Beef Distributors          1145\n",
       "Global Foods 121                           1036\n",
       "Peter's Supplies/H&S                        980\n",
       "CPG FOODS, LLC                              958\n",
       "Brilliant Trading Corp.                     898\n",
       "J.R. Republic, Inc.                         890\n",
       "Viet Huong                                  877\n",
       "Delta Food Compay                           824\n",
       "Pivo Management, Inc.                       822\n",
       "JW Foodservice, Inc.                        818\n",
       "Cab Meat Market                             813\n",
       "National Grocers Corporation                777\n",
       "Lucky Star                                  697\n",
       "LCK Trading company                         627\n",
       "Joy Fresh Marketing World, Inc.             593\n",
       "D & B Foods                                 590\n",
       "M & L Food Co., Inc.                        588\n",
       "                                           ... \n",
       "MEX-SEAFOOD, INC.                             9\n",
       "Asia World Food Wholesales                    9\n",
       "Hunter Foods                                  7\n",
       "LA Produce                                    7\n",
       "Silk, Inc. DBA Mandalay Express               6\n",
       "El Diablo                                     5\n",
       "Good Deal Supermarket                         4\n",
       "United Buying Group, Inc.                     4\n",
       "Richwell Group Inc.                           4\n",
       "EG Meat                                       3\n",
       "Ming Hong International                       3\n",
       "Florence Meat, Co.                            2\n",
       "Canton Food Company                           2\n",
       "Mr. T. Meat Market                            2\n",
       "Unibright Food, Inc.                          2\n",
       "Lunch Truck                                   2\n",
       "Light House Wholesale Seafood, Inc.           2\n",
       "Peppers Thai Cuisine                          2\n",
       "Chi Hing Food Sevices, Inc.                   2\n",
       "Leyen Food, LLC                               1\n",
       "Union Food Trading                            1\n",
       "Lax-C, Inc.                                   1\n",
       "Sunny Meat, Inc.                              1\n",
       "Marketon, Inc.                                1\n",
       "Sysco Food Service Of Los Angeles, Inc.       1\n",
       "SUPREMME                                      1\n",
       "Baily Food Nevada LLC                         1\n",
       "Nem Nuong Khanh Hoa                           1\n",
       "L.A. Union Sales                              1\n",
       "Great Wall Seafood LA.LLC                     1\n",
       "Name: Customer Name, Length: 163, dtype: int64"
      ]
     },
     "execution_count": 15,
     "metadata": {},
     "output_type": "execute_result"
    }
   ],
   "source": [
    "df['Customer Name'].value_counts()"
   ]
  },
  {
   "cell_type": "markdown",
   "metadata": {},
   "source": [
    "## Why are there negative quantities?"
   ]
  },
  {
   "cell_type": "code",
   "execution_count": 16,
   "metadata": {
    "scrolled": true
   },
   "outputs": [
    {
     "data": {
      "text/plain": [
       "count    55680.000000\n",
       "mean       621.276481\n",
       "std       2211.093821\n",
       "min     -37240.000000\n",
       "25%         65.977500\n",
       "50%        180.000000\n",
       "75%        560.000000\n",
       "max      40000.000000\n",
       "Name: Quantity, dtype: float64"
      ]
     },
     "execution_count": 16,
     "metadata": {},
     "output_type": "execute_result"
    }
   ],
   "source": [
    "df.Quantity.describe()"
   ]
  },
  {
   "cell_type": "markdown",
   "metadata": {},
   "source": [
    "## Remove Outliers"
   ]
  },
  {
   "cell_type": "code",
   "execution_count": 17,
   "metadata": {},
   "outputs": [],
   "source": [
    "df = df[df['Quantity']>0]"
   ]
  },
  {
   "cell_type": "code",
   "execution_count": 18,
   "metadata": {},
   "outputs": [
    {
     "data": {
      "text/plain": [
       "count    54974.000000\n",
       "mean       638.595551\n",
       "std       2212.113239\n",
       "min          1.000000\n",
       "25%         68.022500\n",
       "50%        193.750000\n",
       "75%        560.000000\n",
       "max      40000.000000\n",
       "Name: Quantity, dtype: float64"
      ]
     },
     "execution_count": 18,
     "metadata": {},
     "output_type": "execute_result"
    }
   ],
   "source": [
    "df.Quantity.describe()"
   ]
  },
  {
   "cell_type": "markdown",
   "metadata": {},
   "source": [
    "## Volume and Aggregate Sales \n",
    "+ Description\n",
    "+ Customer"
   ]
  },
  {
   "cell_type": "code",
   "execution_count": 25,
   "metadata": {
    "scrolled": true
   },
   "outputs": [],
   "source": [
    "grouped = df.groupby('Description').sum().sort_values('Invoice Total',ascending=False)"
   ]
  },
  {
   "cell_type": "code",
   "execution_count": 32,
   "metadata": {},
   "outputs": [
    {
     "name": "stdout",
     "output_type": "stream",
     "text": [
      "Top Product by Gross Sales\n"
     ]
    },
    {
     "data": {
      "text/html": [
       "<div>\n",
       "<style scoped>\n",
       "    .dataframe tbody tr th:only-of-type {\n",
       "        vertical-align: middle;\n",
       "    }\n",
       "\n",
       "    .dataframe tbody tr th {\n",
       "        vertical-align: top;\n",
       "    }\n",
       "\n",
       "    .dataframe thead th {\n",
       "        text-align: right;\n",
       "    }\n",
       "</style>\n",
       "<table border=\"1\" class=\"dataframe\">\n",
       "  <thead>\n",
       "    <tr style=\"text-align: right;\">\n",
       "      <th></th>\n",
       "      <th>Quantity</th>\n",
       "      <th>Unit Price</th>\n",
       "      <th>Invoice Total</th>\n",
       "    </tr>\n",
       "    <tr>\n",
       "      <th>Description</th>\n",
       "      <th></th>\n",
       "      <th></th>\n",
       "      <th></th>\n",
       "    </tr>\n",
       "  </thead>\n",
       "  <tbody>\n",
       "    <tr>\n",
       "      <th>Chicken Leg Meat Fresh #40</th>\n",
       "      <td>12669724.00</td>\n",
       "      <td>11039.946498</td>\n",
       "      <td>1.155731e+07</td>\n",
       "    </tr>\n",
       "    <tr>\n",
       "      <th>Chicken Jumbo Leg #40</th>\n",
       "      <td>6848754.70</td>\n",
       "      <td>1461.969381</td>\n",
       "      <td>3.162567e+06</td>\n",
       "    </tr>\n",
       "    <tr>\n",
       "      <th>Chicken Breast Meat Fresh #40</th>\n",
       "      <td>2119259.00</td>\n",
       "      <td>5148.231125</td>\n",
       "      <td>2.267647e+06</td>\n",
       "    </tr>\n",
       "    <tr>\n",
       "      <th>Beef Flap Meat (S)</th>\n",
       "      <td>329013.77</td>\n",
       "      <td>376.130000</td>\n",
       "      <td>1.568929e+06</td>\n",
       "    </tr>\n",
       "    <tr>\n",
       "      <th>Chicken Thigh Meat Fresh #40</th>\n",
       "      <td>1117445.00</td>\n",
       "      <td>3203.205000</td>\n",
       "      <td>1.300815e+06</td>\n",
       "    </tr>\n",
       "  </tbody>\n",
       "</table>\n",
       "</div>"
      ],
      "text/plain": [
       "                                  Quantity    Unit Price  Invoice Total\n",
       "Description                                                            \n",
       "Chicken Leg Meat Fresh #40     12669724.00  11039.946498   1.155731e+07\n",
       "Chicken Jumbo Leg #40           6848754.70   1461.969381   3.162567e+06\n",
       "Chicken Breast Meat Fresh #40   2119259.00   5148.231125   2.267647e+06\n",
       "Beef Flap Meat (S)               329013.77    376.130000   1.568929e+06\n",
       "Chicken Thigh Meat Fresh #40    1117445.00   3203.205000   1.300815e+06"
      ]
     },
     "execution_count": 32,
     "metadata": {},
     "output_type": "execute_result"
    }
   ],
   "source": [
    "print('Top Products by Gross Sales')\n",
    "grouped.head()"
   ]
  },
  {
   "cell_type": "code",
   "execution_count": 27,
   "metadata": {},
   "outputs": [
    {
     "data": {
      "text/plain": [
       "38739340.46455163"
      ]
     },
     "execution_count": 27,
     "metadata": {},
     "output_type": "execute_result"
    }
   ],
   "source": [
    "grouped['Invoice Total'].sum()"
   ]
  },
  {
   "cell_type": "code",
   "execution_count": 28,
   "metadata": {},
   "outputs": [
    {
     "data": {
      "text/plain": [
       "24373.36"
      ]
     },
     "execution_count": 28,
     "metadata": {},
     "output_type": "execute_result"
    }
   ],
   "source": [
    "df[df['Description']=='Beef Tendon Ball']['Invoice Total'].sum()"
   ]
  },
  {
   "cell_type": "markdown",
   "metadata": {},
   "source": [
    "### By Customer"
   ]
  },
  {
   "cell_type": "code",
   "execution_count": 29,
   "metadata": {},
   "outputs": [],
   "source": [
    "customer_grouped = df.groupby('Customer Name').sum().sort_values('Invoice Total',ascending=False)"
   ]
  },
  {
   "cell_type": "code",
   "execution_count": 33,
   "metadata": {},
   "outputs": [
    {
     "name": "stdout",
     "output_type": "stream",
     "text": [
      "Top 10 Customers by Gross Sales\n"
     ]
    },
    {
     "data": {
      "text/html": [
       "<div>\n",
       "<style scoped>\n",
       "    .dataframe tbody tr th:only-of-type {\n",
       "        vertical-align: middle;\n",
       "    }\n",
       "\n",
       "    .dataframe tbody tr th {\n",
       "        vertical-align: top;\n",
       "    }\n",
       "\n",
       "    .dataframe thead th {\n",
       "        text-align: right;\n",
       "    }\n",
       "</style>\n",
       "<table border=\"1\" class=\"dataframe\">\n",
       "  <thead>\n",
       "    <tr style=\"text-align: right;\">\n",
       "      <th></th>\n",
       "      <th>Quantity</th>\n",
       "      <th>Unit Price</th>\n",
       "      <th>Invoice Total</th>\n",
       "    </tr>\n",
       "    <tr>\n",
       "      <th>Customer Name</th>\n",
       "      <th></th>\n",
       "      <th></th>\n",
       "      <th></th>\n",
       "    </tr>\n",
       "  </thead>\n",
       "  <tbody>\n",
       "    <tr>\n",
       "      <th>JW Foodservice, Inc.</th>\n",
       "      <td>2644267.220</td>\n",
       "      <td>2090.440000</td>\n",
       "      <td>6.949741e+06</td>\n",
       "    </tr>\n",
       "    <tr>\n",
       "      <th>TL Foods, Inc.</th>\n",
       "      <td>5856800.000</td>\n",
       "      <td>71.570000</td>\n",
       "      <td>2.643550e+06</td>\n",
       "    </tr>\n",
       "    <tr>\n",
       "      <th>CPG FOODS, LLC</th>\n",
       "      <td>1519234.900</td>\n",
       "      <td>1631.879989</td>\n",
       "      <td>1.429926e+06</td>\n",
       "    </tr>\n",
       "    <tr>\n",
       "      <th>Peter's Supplies/H&amp;S</th>\n",
       "      <td>1418400.600</td>\n",
       "      <td>1314.108000</td>\n",
       "      <td>1.323036e+06</td>\n",
       "    </tr>\n",
       "    <tr>\n",
       "      <th>D &amp; B Foods</th>\n",
       "      <td>1323082.040</td>\n",
       "      <td>530.070000</td>\n",
       "      <td>1.203932e+06</td>\n",
       "    </tr>\n",
       "    <tr>\n",
       "      <th>Minh's Meat Co.</th>\n",
       "      <td>1076804.800</td>\n",
       "      <td>277.340000</td>\n",
       "      <td>1.072107e+06</td>\n",
       "    </tr>\n",
       "    <tr>\n",
       "      <th>Capital Seafoods Group</th>\n",
       "      <td>568541.658</td>\n",
       "      <td>10414.843782</td>\n",
       "      <td>1.022759e+06</td>\n",
       "    </tr>\n",
       "    <tr>\n",
       "      <th>J.R. Republic, Inc.</th>\n",
       "      <td>1021315.190</td>\n",
       "      <td>1138.210000</td>\n",
       "      <td>1.018132e+06</td>\n",
       "    </tr>\n",
       "    <tr>\n",
       "      <th>Bolsa Meat</th>\n",
       "      <td>967705.180</td>\n",
       "      <td>2262.820192</td>\n",
       "      <td>9.718994e+05</td>\n",
       "    </tr>\n",
       "    <tr>\n",
       "      <th>Randalls Food, Inc.</th>\n",
       "      <td>1001400.000</td>\n",
       "      <td>188.250000</td>\n",
       "      <td>9.601940e+05</td>\n",
       "    </tr>\n",
       "  </tbody>\n",
       "</table>\n",
       "</div>"
      ],
      "text/plain": [
       "                           Quantity    Unit Price  Invoice Total\n",
       "Customer Name                                                   \n",
       "JW Foodservice, Inc.    2644267.220   2090.440000   6.949741e+06\n",
       "TL Foods, Inc.          5856800.000     71.570000   2.643550e+06\n",
       "CPG FOODS, LLC          1519234.900   1631.879989   1.429926e+06\n",
       "Peter's Supplies/H&S    1418400.600   1314.108000   1.323036e+06\n",
       "D & B Foods             1323082.040    530.070000   1.203932e+06\n",
       "Minh's Meat Co.         1076804.800    277.340000   1.072107e+06\n",
       "Capital Seafoods Group   568541.658  10414.843782   1.022759e+06\n",
       "J.R. Republic, Inc.     1021315.190   1138.210000   1.018132e+06\n",
       "Bolsa Meat               967705.180   2262.820192   9.718994e+05\n",
       "Randalls Food, Inc.     1001400.000    188.250000   9.601940e+05"
      ]
     },
     "execution_count": 33,
     "metadata": {},
     "output_type": "execute_result"
    }
   ],
   "source": [
    "print('Top 10 Customers by Gross Sales')\n",
    "customer_grouped.head(10)"
   ]
  },
  {
   "cell_type": "code",
   "execution_count": null,
   "metadata": {},
   "outputs": [],
   "source": []
  }
 ],
 "metadata": {
  "kernelspec": {
   "display_name": "Python 3",
   "language": "python",
   "name": "python3"
  },
  "language_info": {
   "codemirror_mode": {
    "name": "ipython",
    "version": 3
   },
   "file_extension": ".py",
   "mimetype": "text/x-python",
   "name": "python",
   "nbconvert_exporter": "python",
   "pygments_lexer": "ipython3",
   "version": "3.7.3"
  }
 },
 "nbformat": 4,
 "nbformat_minor": 2
}
